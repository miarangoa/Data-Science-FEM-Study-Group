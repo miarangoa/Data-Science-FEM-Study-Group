{
  "nbformat": 4,
  "nbformat_minor": 0,
  "metadata": {
    "colab": {
      "name": "Probability.ipynb",
      "provenance": [],
      "include_colab_link": true
    },
    "kernelspec": {
      "name": "python3",
      "display_name": "Python 3"
    }
  },
  "cells": [
    {
      "cell_type": "markdown",
      "metadata": {
        "id": "view-in-github",
        "colab_type": "text"
      },
      "source": [
        "<a href=\"https://colab.research.google.com/github/miarangoa/Data-Science-FEM-Study-Group/blob/master/Probability.ipynb\" target=\"_parent\"><img src=\"https://colab.research.google.com/assets/colab-badge.svg\" alt=\"Open In Colab\"/></a>"
      ]
    },
    {
      "cell_type": "markdown",
      "metadata": {
        "id": "EIYB8nQyy3bT",
        "colab_type": "text"
      },
      "source": [
        "In an English deck of cards there are 4 pints (hearts, spades, diamonds and clubs) and 13 cards per pint. That is, in total there are 52 cards. Suppose you choose two random cards. What is the probability that one of them is black since the other is also black?\n",
        "1.\t1/2\n",
        "2.\t25/52\n",
        "3.\t25/51\n",
        "4.\t26/51\n",
        "5.\tNone of above\n"
      ]
    },
    {
      "cell_type": "code",
      "metadata": {
        "id": "MkE8lMRpyoeW",
        "colab_type": "code",
        "outputId": "c1d3ddd6-4e54-4289-d3d7-2511221ad7f0",
        "colab": {
          "base_uri": "https://localhost:8080/",
          "height": 54
        }
      },
      "source": [
        "print(\"La probabilidad de sacar una carta negra es: 26/52\")\n",
        "print(\"La probabilidad de sacar una carta negra dado que ya se sacó una carta negra es: 25/51\")"
      ],
      "execution_count": 7,
      "outputs": [
        {
          "output_type": "stream",
          "text": [
            "La probabilidad de sacar una carta negra es: 26/52\n",
            "La probabilidad de sacar una carta negra dado que ya se sacó una carta negra es: 25/51\n"
          ],
          "name": "stdout"
        }
      ]
    },
    {
      "cell_type": "markdown",
      "metadata": {
        "id": "fITxt8LtzKan",
        "colab_type": "text"
      },
      "source": [
        "The probability that a Titi monkey likes to eat peanuts is 40%, and the probability of consuming it regularly is 20%. In addition, studies have shown that, among the Titi monkeys that eat peanuts, the probability of dying before 5 years is 5%. What is the probability of dying before 5 years of 5%. What is the probability that a Titi monkey eats peanuts regularly and dies before age 5?\n",
        "1.\t0.1\n",
        "2.\t0.04\n",
        "3.\t0.02\n",
        "4.\t0.01\n"
      ]
    },
    {
      "cell_type": "code",
      "metadata": {
        "id": "PErvp-stzVQh",
        "colab_type": "code",
        "outputId": "9f71ae87-254f-4dc7-c129-86dc46e1e652",
        "colab": {
          "base_uri": "https://localhost:8080/",
          "height": 35
        }
      },
      "source": [
        "b = 0.4 * 0.2 * 0.05  \n",
        "print(\"La probabilidad de que un mono que come maní regularmente muera antes de los 5 años es: \", b)"
      ],
      "execution_count": 2,
      "outputs": [
        {
          "output_type": "stream",
          "text": [
            "La probabilidad de que un mono que come maní regularmente muera antes de los 5 años es:  0.004000000000000001\n"
          ],
          "name": "stdout"
        }
      ]
    },
    {
      "cell_type": "markdown",
      "metadata": {
        "id": "0tNirTa2zVtK",
        "colab_type": "text"
      },
      "source": [
        "If you throw a 6-sided side 3 times. X1, X2 and X3 denote the value of the first, second and third throw.\n",
        "What is P (X1 + X2 + X3 <= 5)\n",
        "1.\t10/36\n",
        "2.\t5/36\n",
        "3.\t10/216\n",
        "4.\t5/216\n"
      ]
    },
    {
      "cell_type": "code",
      "metadata": {
        "id": "QsFaeWAbz9Ye",
        "colab_type": "code",
        "outputId": "ded26abd-b12c-4497-f5fd-0f7cc23dc2d4",
        "colab": {
          "base_uri": "https://localhost:8080/",
          "height": 35
        }
      },
      "source": [
        "print(\"La probabilidad es igual a: 10/216\")"
      ],
      "execution_count": 3,
      "outputs": [
        {
          "output_type": "stream",
          "text": [
            "La probabilidad es igual a: 10/216\n"
          ],
          "name": "stdout"
        }
      ]
    },
    {
      "cell_type": "markdown",
      "metadata": {
        "id": "cAmJqNA1z9so",
        "colab_type": "text"
      },
      "source": [
        "In an English deck of cards there are 4 pints (hearts, spades, diamonds and tremolo) and 13 cards per pints. That is, in total there are 52 cards. Suppose you choose two random cards. What is the probability that one of them is black since the other is red?\n",
        "1.\t1/2\n",
        "2.\t25/52\n",
        "3.\t1/4\n",
        "4.\t26/51\n"
      ]
    },
    {
      "cell_type": "code",
      "metadata": {
        "id": "o24ghvSg0J-B",
        "colab_type": "code",
        "outputId": "b35e23c2-eaea-4f97-ae56-ef967d59c4e4",
        "colab": {
          "base_uri": "https://localhost:8080/",
          "height": 35
        }
      },
      "source": [
        "print(\"La probabilidad de sacar una carta negra dado que ya se sacó una carta roja es: 26/51\")"
      ],
      "execution_count": 4,
      "outputs": [
        {
          "output_type": "stream",
          "text": [
            "La probabilidad de sacar una carta negra dado que ya se sacó una carta roja es: 26/51\n"
          ],
          "name": "stdout"
        }
      ]
    },
    {
      "cell_type": "markdown",
      "metadata": {
        "id": "RtTbuiQv0KOZ",
        "colab_type": "text"
      },
      "source": [
        "Cosider a fair coin and fair die. The possible outcome toss is \"head\" or \"tail\", while the possible outcome for the die throw is 1,2,3,4,5 or 6. You toss the coin 4 times and throw the die 2 times.\n",
        "The number of possible outcomes for this experiment is________"
      ]
    },
    {
      "cell_type": "code",
      "metadata": {
        "id": "xls3j4xi0LbB",
        "colab_type": "code",
        "outputId": "2b173f06-4d7c-40d0-c112-5b9df9bca69a",
        "colab": {
          "base_uri": "https://localhost:8080/",
          "height": 54
        }
      },
      "source": [
        "print(\"El número de posibles resultados para el lanzamiento de la moneda es: \", 4*3)\n",
        "print(\"El número de posibles resultados para el lanzamiento del dado es: \", 6*6)"
      ],
      "execution_count": 5,
      "outputs": [
        {
          "output_type": "stream",
          "text": [
            "El número de posibles resultados para el lanzamiento de la moneda es:  12\n",
            "El número de posibles resultados para el lanzamiento del dado es:  36\n"
          ],
          "name": "stdout"
        }
      ]
    },
    {
      "cell_type": "markdown",
      "metadata": {
        "id": "c0h2tCEs0__3",
        "colab_type": "text"
      },
      "source": [
        "\n",
        "\n",
        "\n",
        "\n",
        "\n",
        "\n",
        "\n",
        "\n",
        "\n",
        "\n",
        "\n",
        "\n",
        "\n",
        "\n",
        "\n",
        "\n",
        "\n",
        "\n",
        "\n",
        "\n",
        "\n",
        "\n",
        "\n",
        "\n",
        "\n",
        "\n",
        "\n",
        "\n",
        "\n",
        "\n",
        "A dart is thrown at circular dashboard such that it will land randomly over the area of the dashboard. What is the probability that it lands closer to the center than to the edge? Assume the dart always reaches the dashboard.\n",
        "1.\t25%\n",
        "2.\t50%\n",
        "3.\t10%\n",
        "4.\t33%"
      ]
    },
    {
      "cell_type": "code",
      "metadata": {
        "id": "eYFiTSTl1ATV",
        "colab_type": "code",
        "outputId": "b00708ed-564c-4e3a-e8f3-9f269d969434",
        "colab": {
          "base_uri": "https://localhost:8080/",
          "height": 35
        }
      },
      "source": [
        "print(\"La probabilidad de que el dardo llegue más cerca del centro que del borde es: \", (1/2 * 1/2)*100, \"%\")"
      ],
      "execution_count": 6,
      "outputs": [
        {
          "output_type": "stream",
          "text": [
            "La probabilidad de que el dardo llegue más cerca del centro que del borde es:  25.0 %\n"
          ],
          "name": "stdout"
        }
      ]
    }
  ]
}