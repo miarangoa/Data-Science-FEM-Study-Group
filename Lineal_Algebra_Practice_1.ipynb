{
  "nbformat": 4,
  "nbformat_minor": 0,
  "metadata": {
    "colab": {
      "name": "Lineal Algebra Practice 1.ipynb",
      "provenance": [],
      "include_colab_link": true
    },
    "kernelspec": {
      "name": "python3",
      "display_name": "Python 3"
    }
  },
  "cells": [
    {
      "cell_type": "markdown",
      "metadata": {
        "id": "view-in-github",
        "colab_type": "text"
      },
      "source": [
        "<a href=\"https://colab.research.google.com/github/miarangoa/Data-Science-FEM-Study-Group/blob/master/Lineal_Algebra_Practice_1.ipynb\" target=\"_parent\"><img src=\"https://colab.research.google.com/assets/colab-badge.svg\" alt=\"Open In Colab\"/></a>"
      ]
    },
    {
      "cell_type": "markdown",
      "metadata": {
        "id": "i2NEFcja852e",
        "colab_type": "text"
      },
      "source": [
        "# Question 1.\n",
        "\n",
        "* Print the sum of matrixes A and B\n",
        "\n",
        "$$ A =\n",
        "\\left(\\begin{array}{cc} \n",
        "1 & 2\\\\\n",
        "3 & 4\\\\\n",
        "5 & 6\n",
        "\\end{array}\\right) + B =\n",
        "\\left(\\begin{array}{cc} \n",
        "6 & 5\\\\\n",
        "4 & 3\\\\\n",
        "2 & 1 \n",
        "\\end{array}\\right)\n",
        "$$ "
      ]
    },
    {
      "cell_type": "code",
      "metadata": {
        "id": "jDuBCQ2LQa6L",
        "colab_type": "code",
        "outputId": "ab933f27-c62b-47ae-c746-ebb700add14a",
        "colab": {
          "base_uri": "https://localhost:8080/",
          "height": 90
        }
      },
      "source": [
        "# Answer 1.\n",
        "'Your code here'\n",
        "\n",
        "import numpy as np\n",
        "A = np.array([[1, 2], [3, 4], [5, 6]])\n",
        "B = np.array([[6, 5], [4, 3], [2, 1]])\n",
        "print(\"A + B es igual a:\", A+B, sep = \"\\n\")"
      ],
      "execution_count": 19,
      "outputs": [
        {
          "output_type": "stream",
          "text": [
            "A + B es igual a:\n",
            "[[7 7]\n",
            " [7 7]\n",
            " [7 7]]\n"
          ],
          "name": "stdout"
        }
      ]
    },
    {
      "cell_type": "markdown",
      "metadata": {
        "id": "f_ysniFVMQ1F",
        "colab_type": "text"
      },
      "source": [
        "# Question 2\n",
        "\n",
        "* Print the sum of matrix + scalar.\n",
        "\n",
        "$$ M =\n",
        "\\left(\\begin{array}{cc} \n",
        "6 & 3\\\\\n",
        "9 & 5\\\\\n",
        "4 & 8\n",
        "\\end{array}\\right) + N =\n",
        "\\left(\\begin{array}{cc} \n",
        "2.5 \\\\ \n",
        "\\end{array}\\right)\n",
        "$$ "
      ]
    },
    {
      "cell_type": "code",
      "metadata": {
        "id": "2_-3UKlcmlwz",
        "colab_type": "code",
        "outputId": "510daa6d-8754-4147-831b-d78f49a72480",
        "colab": {
          "base_uri": "https://localhost:8080/",
          "height": 90
        }
      },
      "source": [
        "# Answer 2.\n",
        "'Your code here'\n",
        "M = np.array([[6, 3], [9, 5], [4, 8]])\n",
        "N = 2.5\n",
        "print(\"M + N es igual a:\", M+N, sep = \"\\n\")"
      ],
      "execution_count": 20,
      "outputs": [
        {
          "output_type": "stream",
          "text": [
            "M + N es igual a:\n",
            "[[ 8.5  5.5]\n",
            " [11.5  7.5]\n",
            " [ 6.5 10.5]]\n"
          ],
          "name": "stdout"
        }
      ]
    },
    {
      "cell_type": "markdown",
      "metadata": {
        "id": "tX6URHxjJgzm",
        "colab_type": "text"
      },
      "source": [
        "# Question 3.\n",
        "\n",
        "* Print the transposed matrix of  $J$  -->  $J^t$. \n",
        "\n",
        "$$ J =\n",
        "\\left(\\begin{array}{cc} \n",
        "9 & 2 & 3\\\\\n",
        "3 & 7 & 4 \\\\\n",
        "5 & 6 & 9\n",
        "\\end{array}\\right) \n",
        "$$ "
      ]
    },
    {
      "cell_type": "code",
      "metadata": {
        "id": "Y3fS1dHzSmic",
        "colab_type": "code",
        "outputId": "da64f177-a0f1-4c7e-8860-56eb46115e89",
        "colab": {
          "base_uri": "https://localhost:8080/",
          "height": 90
        }
      },
      "source": [
        "# Answer 3.\n",
        "'Your code here'\n",
        "J = np.array([[9, 2, 3], [3, 7, 4], [5, 6, 9]])\n",
        "print(\"La transpuesta de J es igual a:\", J.T, sep = \"\\n\")"
      ],
      "execution_count": 21,
      "outputs": [
        {
          "output_type": "stream",
          "text": [
            "La transpuesta de J es igual a:\n",
            "[[9 3 5]\n",
            " [2 7 6]\n",
            " [3 4 9]]\n"
          ],
          "name": "stdout"
        }
      ]
    },
    {
      "cell_type": "markdown",
      "metadata": {
        "id": "sx1edpUHLNgH",
        "colab_type": "text"
      },
      "source": [
        "# Question 4.\n",
        "\n",
        "* For the $ J ^ t $ matrix, calculate your transpose to obtain the original matrix J. \n",
        "\n",
        "$$ J =\n",
        "\\left(\\begin{array}{cc} \n",
        "9 & 2 & 3\\\\\n",
        "3 & 7 & 4 \\\\\n",
        "5 & 6 & 9\n",
        "\\end{array}\\right) \n",
        "$$ "
      ]
    },
    {
      "cell_type": "code",
      "metadata": {
        "id": "ku0zlNNO80hf",
        "colab_type": "code",
        "outputId": "0b1b3cf2-5cf0-4ae4-c96b-10b7bd8e9600",
        "colab": {
          "base_uri": "https://localhost:8080/",
          "height": 90
        }
      },
      "source": [
        "# Answer 4.\n",
        "'Your code here'\n",
        "print(\"La transpuesta de Jt es igual a:\", (J.T).T, sep = \"\\n\")"
      ],
      "execution_count": 22,
      "outputs": [
        {
          "output_type": "stream",
          "text": [
            "La transpuesta de Jt es igual a:\n",
            "[[9 2 3]\n",
            " [3 7 4]\n",
            " [5 6 9]]\n"
          ],
          "name": "stdout"
        }
      ]
    },
    {
      "cell_type": "markdown",
      "metadata": {
        "id": "qQ5b5m6HKp_u",
        "colab_type": "text"
      },
      "source": [
        "# Question 5.\n",
        "\n",
        "* \n",
        "What are the missing values? \n",
        "\n",
        "$$\n",
        "\\left(\\begin{array}{cc} \n",
        "? & 2\\\\\n",
        "0 & 2\n",
        "\\end{array}\\right)\n",
        "\\left(\\begin{array}{cc} \n",
        "1 & 0 \\\\ \n",
        "1 & ? \n",
        "\\end{array}\\right)\n",
        "$$ \n",
        "\n",
        " * so that the answer is like this:\n",
        "$\n",
        "\\left(\n",
        " \\begin {array}{ll} \n",
        "1 & 0 \\\\\n",
        "0   & 0\n",
        "\\end{array}\n",
        "\\right)\n",
        "$\n",
        "\n",
        "- [ A ] = 1 y 1\n",
        "- [ B ] = 0 y 1\n",
        "- [ C ] = 1 y 0\n",
        "- [ D ] = 0 y 0\n",
        "\n",
        "*  Print the result and the answer."
      ]
    },
    {
      "cell_type": "code",
      "metadata": {
        "id": "mB1C6fZiK5Ws",
        "colab_type": "code",
        "outputId": "3b261157-a71b-4c63-e79c-542b7c3b9d81",
        "colab": {
          "base_uri": "https://localhost:8080/",
          "height": 293
        }
      },
      "source": [
        "# Answer 5.\n",
        "'your code here'\n",
        "A1 = np.array([[1, 2], [0, 2]])\n",
        "A2 = np.array([[1, 0], [1, 1]])\n",
        "B1 = np.array([[0, 2], [0, 2]])\n",
        "B2 = np.array([[1, 0], [1, 1]])\n",
        "C1 = np.array([[1, 2], [0, 2]])\n",
        "C2 = np.array([[1, 0], [1, 0]])\n",
        "D1 = np.array([[0, 2], [0, 2]])\n",
        "D2 = np.array([[1, 0], [1, 0]])\n",
        "\n",
        "print(\"A:\", A1.dot(A2), sep = \"\\n\")\n",
        "print(\"\\nB:\", B1.dot(B2), sep = \"\\n\")\n",
        "print(\"\\nC:\", C1.dot(C2), sep = \"\\n\")\n",
        "print(\"\\nD:\", D1.dot(D2), sep = \"\\n\")"
      ],
      "execution_count": 23,
      "outputs": [
        {
          "output_type": "stream",
          "text": [
            "A:\n",
            "[[3 2]\n",
            " [2 2]]\n",
            "\n",
            "B:\n",
            "[[2 2]\n",
            " [2 2]]\n",
            "\n",
            "C:\n",
            "[[3 0]\n",
            " [2 0]]\n",
            "\n",
            "D:\n",
            "[[2 0]\n",
            " [2 0]]\n"
          ],
          "name": "stdout"
        }
      ]
    },
    {
      "cell_type": "markdown",
      "metadata": {
        "id": "XRllz0RrGW-m",
        "colab_type": "text"
      },
      "source": [
        "# Question 6.\n",
        "* ¿ What is the dot product matrixes  $L$ y $K$ = : ?\n",
        "\n",
        "$$ L =\n",
        "\\left(\\begin{array}{cc} \n",
        "3 & 5 \\\\\n",
        "7 & 1 \\\\\n",
        "\\end{array}\\right) K =\n",
        "\\left(\\begin{array}{cc} \n",
        "3 & 12  \\\\\n",
        "6 & 4  \\\\\n",
        "\\end{array}\\right)\n",
        "$$ "
      ]
    },
    {
      "cell_type": "code",
      "metadata": {
        "id": "NZ7tLNk2vW73",
        "colab_type": "code",
        "outputId": "cee21e38-9124-453f-bfe8-6e2e87be453f",
        "colab": {
          "base_uri": "https://localhost:8080/",
          "height": 72
        }
      },
      "source": [
        "# Answer 6.\n",
        "'your code here'\n",
        "L = np.array([[3, 5], [7, 1]])\n",
        "K = np.array([[3, 12], [6, 4]])\n",
        "print(\"El producto punto de L y K es igual a:\", L.dot(K), sep = \"\\n\")"
      ],
      "execution_count": 24,
      "outputs": [
        {
          "output_type": "stream",
          "text": [
            "El producto punto de L y K es igual a:\n",
            "[[39 56]\n",
            " [27 88]]\n"
          ],
          "name": "stdout"
        }
      ]
    },
    {
      "cell_type": "markdown",
      "metadata": {
        "id": "qyuXefxfXs8h",
        "colab_type": "text"
      },
      "source": [
        "# Question 7.\n",
        "\n",
        "* ¿ What is the determinant of the following matrix  ? (Print the answer)\n",
        "\n",
        "$\n",
        "\\left(\n",
        "\\begin {array}{ll} \n",
        "1 & 2 & 0 \\\\\n",
        "1 & 2 & 0 \\\\\n",
        "0 & 1 & 1 \\\\\n",
        "\\end{array}\n",
        "\\right)\n",
        "$\n",
        "\n",
        "- [ A ] = 1 \n",
        "- [ B ] = 0 \n",
        "- [ C ] = 5\n",
        "- [ D ] = -5\n",
        "\n"
      ]
    },
    {
      "cell_type": "code",
      "metadata": {
        "id": "_Za_87JV0Fxa",
        "colab_type": "code",
        "outputId": "e1ed5bc9-a3ab-4949-c21a-8f4192809f0f",
        "colab": {
          "base_uri": "https://localhost:8080/",
          "height": 54
        }
      },
      "source": [
        "# Answer 7.\n",
        "'your code here'\n",
        "a = np.array([[1, 2, 0], [1, 2, 0], [0, 1, 1]])\n",
        "print(\"El determinante de la matriz es igual a:\", np.linalg.det(a), sep = \"\\n\")"
      ],
      "execution_count": 25,
      "outputs": [
        {
          "output_type": "stream",
          "text": [
            "El determinante de la matriz es igual a:\n",
            "0.0\n"
          ],
          "name": "stdout"
        }
      ]
    },
    {
      "cell_type": "markdown",
      "metadata": {
        "id": "YsULSkG8wME_",
        "colab_type": "text"
      },
      "source": [
        "# Question 8.\n",
        "\n",
        "* ¿ What is the determinant of the following matrix ? (Print the answer)\n",
        "\n",
        "$\n",
        "\\left(\n",
        "\\begin {array}{ll} \n",
        "0 & 1 & 1 \\\\\n",
        "1 & 0 & 0 \\\\\n",
        "0 & 0 & 1 \\\\\n",
        "\\end{array}\n",
        "\\right)\n",
        "$\n",
        "\n",
        "- [ A ] = 0 \n",
        "- [ B ] = -1 \n",
        "- [ C ] = 3\n",
        "- [ D ] = 1\n"
      ]
    },
    {
      "cell_type": "code",
      "metadata": {
        "id": "WQhgsnY4v_hQ",
        "colab_type": "code",
        "outputId": "7a38aa34-0a6e-4ab3-d48e-a5705fc2db51",
        "colab": {
          "base_uri": "https://localhost:8080/",
          "height": 54
        }
      },
      "source": [
        "# Answer 8.\n",
        "'your code here'\n",
        "b = np.array([[0, 1, 1], [1, 0, 0], [0, 0, 1]])\n",
        "print(\"El determinante de la matriz es igual a:\", np.linalg.det(b), sep = \"\\n\")"
      ],
      "execution_count": 26,
      "outputs": [
        {
          "output_type": "stream",
          "text": [
            "El determinante de la matriz es igual a:\n",
            "-1.0\n"
          ],
          "name": "stdout"
        }
      ]
    },
    {
      "cell_type": "markdown",
      "metadata": {
        "id": "0Z1mnDXzLJg_",
        "colab_type": "text"
      },
      "source": [
        "# Question 9\n",
        "\n",
        "* ¿What is the missing value?\n",
        "$$ \n",
        "\\left(\\begin{array}{cc} \n",
        "1 & 2 & 3\\\\\n",
        "4 & 5 & 6\\\\\n",
        "7 & 8 & 9\n",
        "\\end{array}\\right) \n",
        "\\left(\\begin{array}{cc} \n",
        "0 \\\\ \n",
        "? \\\\\n",
        "16 \\\\\n",
        "\\end{array}\\right) =\n",
        "\\left(\\begin{array}{cc} \n",
        "4 \\\\ \n",
        "10 \\\\\n",
        "16 \\\\\n",
        "\\end{array}\\right)\n",
        "$$ "
      ]
    },
    {
      "cell_type": "code",
      "metadata": {
        "id": "n7Wx1hRwLHyX",
        "colab_type": "code",
        "colab": {
          "base_uri": "https://localhost:8080/",
          "height": 182
        },
        "outputId": "e60f5053-c2c8-45b7-af45-8f6fe1e1669e"
      },
      "source": [
        "matriz_ = np.array([[1, 2, 3], [4, 5, 6], [7, 8, 9]])\n",
        "vector_ = np.array ([[0], [2], [0]])\n",
        "multiplicacion = matriz_.dot(vector_)\n",
        "print(\"El valor abajo del faltante no es 16 sino 0*\")\n",
        "print(\"\\n\", \"Validación: \", multiplicacion, sep = \"\\n\")\n",
        "print(\"\\n\", \"El valor faltante es: 2\")"
      ],
      "execution_count": 31,
      "outputs": [
        {
          "output_type": "stream",
          "text": [
            "El valor abajo del faltante no es 16 sino 0*\n",
            "\n",
            "\n",
            "Validación: \n",
            "[[ 4]\n",
            " [10]\n",
            " [16]]\n",
            "\n",
            " El valor faltante es: 2\n"
          ],
          "name": "stdout"
        }
      ]
    }
  ]
}